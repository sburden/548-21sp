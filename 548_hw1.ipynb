{
 "cells": [
  {
   "cell_type": "markdown",
   "metadata": {
    "colab_type": "text",
    "id": "4qz2av61Xgua"
   },
   "source": [
    "# 548 hw1 due 5p Fri Apr 9 on Canvas\n",
    "\n",
    "This assignment will be graded on both participation and correctness (1 point each, for a total of 2 points for each sub-problem).\n",
    "\n",
    "You are welcome (and encouraged) to:\n",
    "* work together, synchronously and asynchronously, in study groups;\n",
    "* use analytical and numerical computational tools -- specify the tool(s) in sourcecode and/or text;\n",
    "* reuse example sourcecode and other materials provided in this course;\n",
    "* consult textbooks, websites, and other publicly-available materials -- include full citation(s) with the URL and/or DOI.\n",
    "\n",
    "Submit your homework writeup by uploading a .pdf and/or .ipynb on the Canvas Assignment.\n",
    "\n",
    "You are welcome (and encouraged) to typeset your homework assignments rather than write them by hand.  While you could do this with LaTeX, you may find it easier to use the Colaboratory Notebook, since it is adept at embedding equations (via LaTeX syntax), matrix computations, and control system calculations."
   ]
  },
  {
   "cell_type": "markdown",
   "metadata": {
    "colab_type": "text",
    "id": "JLms0q_OolBH"
   },
   "source": [
    "# 0. [preferred name]; [preferred pronouns]\n",
    "\n",
    "a. Approximately how many hours did you spend on this assignment?\n",
    "\n",
    "b. Were there specific problems that took much longer than others?\n",
    "\n",
    "c. What class meeting(s) did you participate in this week?\n",
    "\n",
    "d. What timezone(s) were you working in this week?"
   ]
  },
  {
   "cell_type": "markdown",
   "metadata": {
    "colab_type": "text",
    "id": "oL488VtW8UNR"
   },
   "source": [
    "# linearization through simulations\n",
    "\n",
    "***Purpose:***  *linearize a nonlinear system along a non-equilibrium trajectory and compare simulation results from the nonlinear system and its linearization -- these are foundational techniques we will use extensively throughout the quarter.*\n",
    "\n",
    "Consider the following continuous-time nonlinear system (CNL) that models a pendulum comprised of a mass $m$ affixed to the end of a massless rigid rod of length $\\ell$ whose other end is pinned to a direct-drive DC motor that applies torque $u$ and generates [back-EMF](https://en.wikipedia.org/wiki/Counter-electromotive_force) with constant $b$:\n",
    "\n",
    "$$m \\ell^2 \\ddot{q} + m g \\ell \\sin q = \\ell u - \\ell b \\dot{q}.$$\n",
    "\n",
    "***Note:***  *the dynamics are slightly different than hw0, reflecting a better understanding of the actual physics :)*\n",
    "\n",
    "Use parameter values $m = 1\\ \\text{kg}$, $\\ell = 1\\ \\text{m}$, $g = 9.81\\ \\text{m/sec}^2$, $b = 1$ in the following problems.\n",
    "\n",
    "(a) *Simulate (CNL) from initial condition $q(0) = 0\\ \\text{rad}$, $\\dot{q}(0) = 0\\ \\text{rad/sec}$ with sinusoidal input $\\bar{u}(\\tau) = \\frac{1}{4} mg \\sin\\left(\\sqrt{\\frac{g}{\\ell}} \\tau\\right)$ for $t = 10\\sqrt{\\frac{\\ell}{g}}\\ \\text{sec}$; let $\\bar{x}:[0,t]\\rightarrow\\mathbb{R}^2$ denote the trajectory obtained by applying input $\\bar{u}$.*\n",
    "***Plot $\\bar{x}$ and $\\bar{u}$ versus time, and (separately) plot $\\dot{\\bar{q}}$ versus $\\bar{q}$ -- label the axes and include legends for all plots.***\n",
    "\n",
    "(b) *Linearize (CNL) along the trajectory $\\bar{x}$ from (a) to obtain a continuous-time linear time-invariant system (CLTI)\n",
    "$$\\delta\\dot{x}(\\tau) = A(\\tau) \\delta x(\\tau) + B(\\tau) \\delta u(\\tau)$$\n",
    "that approximates (CNL) when $x(\\tau) \\approx \\bar{x}(\\tau) + \\delta x(\\tau)$, $u(\\tau) \\approx \\bar{u}(\\tau) + \\delta u(\\tau)$.*\n",
    "***Give analytic expressions for $A(\\tau)$, $B(\\tau)$ in terms of $\\bar{x}(\\tau)$, $\\bar{u}(\\tau)$.***\n",
    "\n",
    "(c) *Use simulations to verify that $x(\\tau) \\approx \\bar{x}(\\tau) + \\delta x(\\tau)$ for all $\\tau\\in[0,t]$ for some $\\delta x(0)\\neq 0$ (you choose) and $\\delta u = 0$.*\n",
    "***Create two plots:  (i) $x$ and $\\bar{x} + \\delta x$ versus time; (ii) $\\dot{q}$ versus $\\bar{q}$ and $\\dot{\\bar{q}} + \\delta \\dot{q}$ versus $\\bar{q} + \\delta q$. Label the axes and include legends for all plots.***\n",
    "\n",
    "(d) *Use simulations to verify that $x(\\tau) \\approx \\bar{x}(\\tau) + \\delta x(\\tau)$ for all $\\tau\\in[0,t]$ for some $\\delta u\\neq 0$ (you choose) and $\\delta x(0) = 0$.*\n",
    "***Create two plots:  (i) $x$ and $\\bar{x} + \\delta x$ versus time; (ii) $\\dot{q}$ versus $\\bar{q}$ and $\\dot{\\bar{q}} + \\delta \\dot{q}$ versus $\\bar{q} + \\delta q$. Label the axes and include legends for all plots.***\n",
    "\n",
    "***Hint:*** *in (c) and (d), choose a non-zero perturbation and then multiply the perturbation by a progressively smaller scalar $\\alpha > 0$ until you observe good agreement between $x$ and $\\bar{x} + \\delta x$.*"
   ]
  },
  {
   "cell_type": "markdown",
   "metadata": {
    "colab_type": "text",
    "id": "QSdETE4WnS5b"
   },
   "source": [
    "# Bode plots\n",
    "\n",
    "***Purpose:*** *recall how to visualize and manipulate transfer functions and their interconnections using ***Bode plots***, that is, plots that show how sinusoidal inputs are amplified/attenuated and phase-shifted by a transfer function $G$ as a function of the input frequency $\\omega$.*\n",
    "\n",
    "Consider the transfer function process model for an RC circuit with a voltage source as the input and capacitor voltage as the output,\n",
    "\n",
    "$$ P(s) = \\frac{1}{1 + s RC}. $$\n",
    "\n",
    "Use parameter values $R = 1$m$\\Omega$, $C = 1\\mu$F in the remainder of the problem.\n",
    "\n",
    "(a) *Create the ***Bode plot*** for $P$, that is, plot $| P(j\\omega) |$ and $\\angle P(j\\omega)$ versus $\\omega$.*  (***Hint:*** refer to the RLC Circuit example in Section 2 of the [lecture examples notebook](https://colab.research.google.com/github/sburden/548-20sp/blob/master/lec_examples.ipynb) for plotting code; you should use the ``subplot``, ``loglog``, and ``semilogx`` functions from the ``pylab`` or ``matplotlib`` modules in your solution.)\n",
    "\n",
    "If we instead consider the transfer function from the input voltage to the resistor voltage, we obtain the transfer function\n",
    "\n",
    "$$ Q(s) = \\frac{s RC}{1 + sRC}. $$\n",
    "\n",
    "(b) *Create the Bode plot for $Q$.*\n",
    "\n",
    "(c) *Create the Bode plot for the numerator $N(s) = s RC$ of $Q$.*\n",
    "\n",
    "(d) *Noting that $Q(s) = P(s) N(s)$, determine how the Bode plot of $Q$ is related to the Bode plots of $P$ and $N$.  (***Note:*** the magnitude component of the Bode plot should be represented logarithmically for this calculation.)*\n",
    "\n",
    "(e) *Verify the relationship you derived in (d.) by overlaying the Bode plot of $P(s)N(s)$ on your Bode plot of $Q$ from (b.).*\n",
    "\n",
    "(f) *Describe the Bode plots of $N$, $Q$, and $P$ as ***filters***, that is, explain how each system responds to \"low frequency\" inputs (specify a range of frequencies you regard as \"low\") and \"high frequency\" inputs (specify a range of frequencies you regard as \"high\").  Could you predict the combined response of $Q = P N$  based on the individual responses of $N$ and $P$?*\n",
    "\n",
    "***Takeaway:*** *Bode plots provide a convenient visualization of a transfer function that enables us to determine how systems respond to input frequency components, individually and through interconnection.*"
   ]
  }
 ],
 "metadata": {
  "colab": {
   "collapsed_sections": [],
   "name": "548_20sp_hw1.ipynb",
   "provenance": [
    {
     "file_id": "1-Wc5ufxwwpK7Y9NKFEecUwi03dMMPU10",
     "timestamp": 1585507475286
    }
   ]
  },
  "kernelspec": {
   "display_name": "Python 3",
   "language": "python",
   "name": "python3"
  },
  "language_info": {
   "codemirror_mode": {
    "name": "ipython",
    "version": 3
   },
   "file_extension": ".py",
   "mimetype": "text/x-python",
   "name": "python",
   "nbconvert_exporter": "python",
   "pygments_lexer": "ipython3",
   "version": "3.6.8"
  }
 },
 "nbformat": 4,
 "nbformat_minor": 1
}
